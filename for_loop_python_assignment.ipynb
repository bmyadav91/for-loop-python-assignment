{
 "cells": [
  {
   "cell_type": "code",
   "execution_count": 1,
   "id": "0595701a-518e-4c25-87a9-c2e345fb8e08",
   "metadata": {},
   "outputs": [],
   "source": [
    "#python for loop assignment "
   ]
  },
  {
   "cell_type": "code",
   "execution_count": 2,
   "id": "e46d02b7-135a-4452-837a-f65d43764ccb",
   "metadata": {},
   "outputs": [],
   "source": [
    "# Basic Level:"
   ]
  },
  {
   "cell_type": "code",
   "execution_count": 6,
   "id": "befff4d7-8a3b-4f10-a698-efc7712b68d2",
   "metadata": {},
   "outputs": [
    {
     "name": "stdout",
     "output_type": "stream",
     "text": [
      "1 2 3 4 5 6 7 8 9 10 "
     ]
    }
   ],
   "source": [
    "# 1. Write a Python program to print the numbers from 1 to 10 using a `for` loop.\n",
    "# assign a for-loop\n",
    "n = 10\n",
    "for i in range(1, n+1): # n+1 to print up to 10\n",
    "    print(i, end = ' ')"
   ]
  },
  {
   "cell_type": "code",
   "execution_count": 9,
   "id": "19893979-7f92-48bd-8786-68040ab07c14",
   "metadata": {},
   "outputs": [
    {
     "name": "stdout",
     "output_type": "stream",
     "text": [
      "Sum Of Numbers:  55\n"
     ]
    }
   ],
   "source": [
    "# 2. Create a program that calculates the sum of all numbers in a list using a `for` loop.\n",
    "# Make a list \n",
    "numbers = [1,2,3,4,5,6,7,8,9,10]\n",
    "# assing sum_of_number 0\n",
    "sum_of_number = 0\n",
    "# iterate through numbers \n",
    "for i in numbers:\n",
    "    # adding each element in sum_of_number \n",
    "    sum_of_number += i\n",
    "# print result\n",
    "print(\"Sum Of Numbers: \",sum_of_number)"
   ]
  },
  {
   "cell_type": "code",
   "execution_count": 10,
   "id": "489add91-4e2c-4cc8-8fd2-edde4a43322a",
   "metadata": {},
   "outputs": [
    {
     "name": "stdout",
     "output_type": "stream",
     "text": [
      "Revesed String 'ruphkaroG' from 'Gorakhpur'\n"
     ]
    }
   ],
   "source": [
    "# 3. Write a program to print the characters of a string in reverse order using a `for` loop.\n",
    "# create a string\n",
    "string = \"Gorakhpur\"\n",
    "# assing reverse string as blank\n",
    "rev_string = \"\"\n",
    "# iterate through string\n",
    "for char in reversed(string):\n",
    "    rev_string += char\n",
    "print(f\"Revesed String '{rev_string}' from '{string}'\")"
   ]
  },
  {
   "cell_type": "code",
   "execution_count": 27,
   "id": "1321600e-04a0-4a1e-bdf8-080a18cea3f6",
   "metadata": {},
   "outputs": [
    {
     "name": "stdin",
     "output_type": "stream",
     "text": [
      "Enter Integer Number:  10\n"
     ]
    },
    {
     "name": "stdout",
     "output_type": "stream",
     "text": [
      "'3628800' is factorial number of '10'\n"
     ]
    }
   ],
   "source": [
    "# 4. Develop a program that finds the factorial of a given number using a `for` loop.\n",
    "# assing n\n",
    "n = int(input(\"Enter Integer Number: \")) or 10\n",
    "# assing blank list\n",
    "fac_num = 1\n",
    "# iterate through n \n",
    "for i in range(1,n+1): #+ to iterate to the number\n",
    "    # multiply each i\n",
    "    fac_num *= i\n",
    "# print result \n",
    "print(f\"'{fac_num}' is factorial number of '{n}'\")"
   ]
  },
  {
   "cell_type": "code",
   "execution_count": 34,
   "id": "8da6d30e-fa06-4c2d-8fe1-1e5475cb3386",
   "metadata": {},
   "outputs": [
    {
     "name": "stdin",
     "output_type": "stream",
     "text": [
      "Enter Integer Number:  11\n"
     ]
    },
    {
     "name": "stdout",
     "output_type": "stream",
     "text": [
      "11 x 1 = 11\n",
      "11 x 2 = 22\n",
      "11 x 3 = 33\n",
      "11 x 4 = 44\n",
      "11 x 5 = 55\n",
      "11 x 6 = 66\n",
      "11 x 7 = 77\n",
      "11 x 8 = 88\n",
      "11 x 9 = 99\n",
      "11 x 10 = 110\n"
     ]
    }
   ],
   "source": [
    "# 5. Create a program to print the multiplication table of a given number using a `for` loop.\n",
    "# assing given number\n",
    "given_number = int(input(\"Enter Integer Number: \")) or 10\n",
    "# iterate 10 row \n",
    "for i in range(1,10+1):\n",
    "    result = i*given_number\n",
    "    print(f\"{given_number} x {i} = {result}\")"
   ]
  },
  {
   "cell_type": "code",
   "execution_count": 35,
   "id": "43776ccd-4f5a-4f45-aed4-09926ac1f8ce",
   "metadata": {},
   "outputs": [
    {
     "name": "stdout",
     "output_type": "stream",
     "text": [
      "Even Numbers Count '10' and odd number count '10' in list '[1, 2, 3, 4, 5, 6, 7, 8, 9, 10, 11, 12, 13, 14, 15, 16, 17, 18, 19, 20]'\n"
     ]
    }
   ],
   "source": [
    "# 6. Write a program that counts the number of even and odd numbers in a list using a `for` loop.\n",
    "# list of numbers\n",
    "list_num = [1,2,3,4,5,6,7,8,9,10,11,12,13,14,15,16,17,18,19,20]\n",
    "# assing even number count as 0 now \n",
    "even_num_count = 0\n",
    "# odd num count 0\n",
    "odd_num_count = 0\n",
    "# iterate through list_num\n",
    "for i in list_num:\n",
    "    # if any element is divided by 2 then the increment count of even_num_coun\n",
    "    if i % 2 ==0:\n",
    "        even_num_count +=1\n",
    "    else:\n",
    "        # if any element is not divided by 2 then the increment count of odd_num_coun\n",
    "        odd_num_count +=1\n",
    "print(f\"Even Numbers Count '{even_num_count}' and odd number count '{odd_num_count}' in list '{list_num}'\")"
   ]
  },
  {
   "cell_type": "code",
   "execution_count": 38,
   "id": "49724e74-cf11-4963-b03d-73077809e809",
   "metadata": {},
   "outputs": [
    {
     "name": "stdout",
     "output_type": "stream",
     "text": [
      "1 is square of '1'\n",
      "4 is square of '2'\n",
      "9 is square of '3'\n",
      "16 is square of '4'\n",
      "25 is square of '5'\n"
     ]
    }
   ],
   "source": [
    "# 7. Develop a program that prints the squares of numbers from 1 to 5 using a `for` loop.\n",
    "# iterate range of 1 to 5 \n",
    "for sq in range(1,6):\n",
    "    # multiple ** each and store it in square\n",
    "    square = sq **2\n",
    "    # print result each time\n",
    "    print(f\"{square} is square of '{sq}'\" )"
   ]
  },
  {
   "cell_type": "code",
   "execution_count": 40,
   "id": "388d70a4-556d-4dad-9c8e-926a2d4c6722",
   "metadata": {},
   "outputs": [
    {
     "name": "stdin",
     "output_type": "stream",
     "text": [
      "Enter String:  hello\n"
     ]
    },
    {
     "name": "stdout",
     "output_type": "stream",
     "text": [
      "5 length in hello\n"
     ]
    }
   ],
   "source": [
    "# 8. Create a program to find the length of a string without using the `len()` function.\n",
    "# assing a string\n",
    "string = input(\"Enter String: \")\n",
    "# assing str_len = 0\n",
    "str_len = 0\n",
    "# iterate through string\n",
    "for len in string:\n",
    "    # increament str_len count\n",
    "    str_len += 1\n",
    "# print result now\n",
    "print(f\"{str_len} length in {string}\")"
   ]
  },
  {
   "cell_type": "code",
   "execution_count": 41,
   "id": "1b31e048-a19f-4894-b24a-408fcbf47ce7",
   "metadata": {},
   "outputs": [
    {
     "name": "stdout",
     "output_type": "stream",
     "text": [
      "19.444444444444443 average in [1, 3, 4, 5, 7, 54, 6, 7, 88]\n"
     ]
    }
   ],
   "source": [
    "# 9. Write a program that calculates the average of a list of numbers using a `for` loop.\n",
    "list_is = [1,3,4,5,7,54,6,7,88]\n",
    "# assing list_el_count 0 and sum_of_list is 0\n",
    "list_el_count = 0\n",
    "sum_of_list = 0\n",
    "# iterate through list_is\n",
    "for l in list_is:\n",
    "    # adding element to sum_of_list\n",
    "    sum_of_list += l\n",
    "    # increament list_el_count\n",
    "    list_el_count +=1\n",
    "# now check and validate through if\n",
    "if list_el_count !=0:\n",
    "    # find average by sum_of_list/list_el_count\n",
    "    average = sum_of_list/list_el_count\n",
    "    # print result\n",
    "    print(f\"{average} average in {list_is}\")\n",
    "else:\n",
    "    print(f\"{list_is} is empty\")"
   ]
  },
  {
   "cell_type": "code",
   "execution_count": 45,
   "id": "1d323ab9-eb58-409a-b721-ae43fa38feb7",
   "metadata": {},
   "outputs": [
    {
     "name": "stdin",
     "output_type": "stream",
     "text": [
      "Enter Integer Number:  11\n"
     ]
    },
    {
     "name": "stdout",
     "output_type": "stream",
     "text": [
      "[0, 1, 1, 2, 3, 5, 8, 13, 21, 34, 55] of '11'\n"
     ]
    }
   ],
   "source": [
    "# 10. Develop a program that prints the first `n` Fibonacci numbers using a `for` loop.\n",
    "n = int(input(\"Enter Integer Number: \"))\n",
    "# assing a = 0 and b =1\n",
    "a, b = 0, 1\n",
    "# assign blank list\n",
    "fib_list = list()\n",
    "# iterate through range n + 1\n",
    "for _ in range(n):\n",
    "    # append in fib_list\n",
    "    fib_list.append(a)\n",
    "    # swap value\n",
    "    a, b = b, a + b\n",
    "# print result\n",
    "print(f\"{fib_list} of '{n}'\")"
   ]
  },
  {
   "cell_type": "code",
   "execution_count": null,
   "id": "dcffdb5c-87c7-49bc-8acd-5bded1483d04",
   "metadata": {},
   "outputs": [],
   "source": [
    "# Intermediate Level:"
   ]
  },
  {
   "cell_type": "code",
   "execution_count": 10,
   "id": "2012a585-d141-4f96-8077-44d5d1ba0762",
   "metadata": {},
   "outputs": [
    {
     "name": "stdout",
     "output_type": "stream",
     "text": [
      "Yes [4, 3, 4, 6] contain duplicate items in  [1, 3, 4, 6, 7, 4, 3, 2, 23, 4, 6]\n"
     ]
    }
   ],
   "source": [
    "# 11. Write a program to check if a list contains duplicates using a `for` loop.\n",
    "list_item = [1,3,4,6,7,4,3,2,23,4,6]\n",
    "# initialize duplicate_element blank\n",
    "duplicate_element = []\n",
    "# assing seen blank \n",
    "seen = set()\n",
    "# iterate through len of list_item\n",
    "for el in list_item:\n",
    "    if el in seen:\n",
    "        duplicate_element.append(el)\n",
    "    else:\n",
    "        seen.add(el)\n",
    "# check condition\n",
    "if len(duplicate_element) > 0:\n",
    "    print(\"Yes\", duplicate_element, \"contain duplicate items in \",list_item)\n",
    "else:\n",
    "    print(\"No\", list_item, \"doesn't contain any duplicate items\")"
   ]
  },
  {
   "cell_type": "code",
   "execution_count": 42,
   "id": "6b2b02a7-4bde-4ac9-a75e-8d2e28126589",
   "metadata": {},
   "outputs": [
    {
     "name": "stdin",
     "output_type": "stream",
     "text": [
      "Enter Integer Number:  19\n"
     ]
    },
    {
     "name": "stdout",
     "output_type": "stream",
     "text": [
      "Prime Number: 2\n",
      "Prime Number: 3\n",
      "Prime Number: 5\n",
      "Prime Number: 7\n",
      "Prime Number: 11\n",
      "Prime Number: 13\n",
      "Prime Number: 17\n",
      "Prime Number: 19\n"
     ]
    }
   ],
   "source": [
    "# 12. Create a program that prints the prime numbers in a given range using a `for` loop.\n",
    "prime_number = int(input(\"Enter Integer Number: \"))\n",
    "# assign blank prime\n",
    "blank_prime = []\n",
    "# iterate through prime_number\n",
    "for n in range(2,prime_number+1): #+1 to reach the number\n",
    "    # iterate each number n\n",
    "    for i in range(2,n):\n",
    "        # if reminder = 0 then break\n",
    "        if n % i == 0:\n",
    "            break\n",
    "    else:\n",
    "        print(\"Prime Number:\", n)"
   ]
  },
  {
   "cell_type": "code",
   "execution_count": 48,
   "id": "300d18b3-52fd-4a04-ab5a-eeae3903f029",
   "metadata": {},
   "outputs": [
    {
     "name": "stdin",
     "output_type": "stream",
     "text": [
      "Enter any sting:  Python\n"
     ]
    },
    {
     "name": "stdout",
     "output_type": "stream",
     "text": [
      "'1' Vowel Count in 'Python'\n"
     ]
    }
   ],
   "source": [
    "# 13. Develop a program that counts the number of vowels in a string using a `for` loop.\n",
    "# making a string\n",
    "string = input(\"Enter any sting: \")\n",
    "# initialize v_count = 0\n",
    "v_count = 0\n",
    "# iterate through string\n",
    "for v in string:\n",
    "    # in aeiouAEIOU\n",
    "    if v in \"aeiouAEIOU\":\n",
    "        # if found then increament v_count\n",
    "        v_count +=1\n",
    "# print result\n",
    "print(f\"'{v_count}' Vowel Count in '{string}'\")"
   ]
  },
  {
   "cell_type": "code",
   "execution_count": 53,
   "id": "8cd4e44c-8c61-48fe-9564-343117d606c8",
   "metadata": {},
   "outputs": [
    {
     "name": "stdout",
     "output_type": "stream",
     "text": [
      "'566' is max element in '[[1, 2, 4], [3, 45, 566, 5, 4, 3], [4, 3, 5, 3, 2, 45, 43], [1, 1, 1, 1, 1, 1, 1, 1, 1, 1, 1]]'\n"
     ]
    }
   ],
   "source": [
    "# 14. Write a program to find the maximum element in a 2D list using a nested `for` loop.\n",
    "list_is = [[1,2,4], [3,45,566,5,4,3], [4,3,5,3,2,45,43],[1,1,1,1,1,1,1,1,1,1,1]]\n",
    "# initialize max value \n",
    "max_element = 0\n",
    "# iterate through list_is\n",
    "for row in list_is:\n",
    "    # now nested for loop \n",
    "    for element in row:\n",
    "        # if current element is greater than max_element then replace with current element\n",
    "        if element > max_element:\n",
    "            max_element = element\n",
    "# print the result\n",
    "print(f\"'{max_element}' is max element in '{list_is}'\")"
   ]
  },
  {
   "cell_type": "code",
   "execution_count": 58,
   "id": "c918cbd9-c24b-4827-8bea-b2acd451e7cd",
   "metadata": {},
   "outputs": [
    {
     "name": "stdout",
     "output_type": "stream",
     "text": [
      "After Removed Specific Element:  [1, 3, 3, 4, 3, 4, 5, 4, 5]\n"
     ]
    }
   ],
   "source": [
    "# 15. Create a program that removes all occurrences of a specific element from a list using a `for` loop.\n",
    "my_list = [1,2,3,2,3,4,3,4,5,2,4,5]\n",
    "# initialize the specific element\n",
    "s_el = 2\n",
    "# iterate through my list\n",
    "for element in my_list:\n",
    "    if element == s_el:\n",
    "        my_list.remove(s_el)\n",
    "# print result \n",
    "print(\"After Removed Specific Element: \",my_list)"
   ]
  },
  {
   "cell_type": "code",
   "execution_count": 59,
   "id": "7b81694b-872f-430d-9321-6631d7a81c25",
   "metadata": {},
   "outputs": [
    {
     "name": "stdout",
     "output_type": "stream",
     "text": [
      "Celsius Temperatures: '[8, 11, 14, 16, 24, 26, 28, 30, 32, 37, 42, 51]' to Fahrenheit Temperatures: '[46.4, 51.8, 57.2, 60.8, 75.2, 78.8, 82.4, 86.0, 89.6, 98.6, 107.6, 123.8]'\n"
     ]
    }
   ],
   "source": [
    "# 17. Write a program that converts a list of Fahrenheit temperatures to Celsius using a `for` loop.\n",
    "celsius_list = [8,11,14,16,24,26,28,30,32,37,42,51]\n",
    "# initialize fahrengeit\n",
    "fahrenheit_list = []\n",
    "# iterate through celsius_list \n",
    "for c in celsius_list:\n",
    "    # applying formula\n",
    "    fahrenheit = (c * 9/5) + 32\n",
    "    # now append fahrenheit in fahrenheit list\n",
    "    fahrenheit_list.append(fahrenheit)\n",
    "# print result \n",
    "print(f\"Celsius Temperatures: '{celsius_list}' to Fahrenheit Temperatures: '{fahrenheit_list}'\")"
   ]
  },
  {
   "cell_type": "code",
   "execution_count": 67,
   "id": "de93daed-6910-4a16-88d4-176b84d46d90",
   "metadata": {},
   "outputs": [
    {
     "name": "stdout",
     "output_type": "stream",
     "text": [
      "[1, 3, 6, 3] Common Elements in [1, 2, 3, 6, 78, 54, 3] and [1, 3, 5, 22, 8, 6, 5, 6]\n"
     ]
    }
   ],
   "source": [
    "# 18. Create a program to print the common elements from two lists using a `for` loop.\n",
    "list_one = [1,2,3,6,78,54,3]\n",
    "list_two = [1,3,5,22,8,6,5,6]\n",
    "# initialize blank_common_el\n",
    "blank_common_el = []\n",
    "# iterate through list_one\n",
    "for one_el in list_one:\n",
    "    # if element of list_one found in list_two\n",
    "    if one_el in list_two:\n",
    "        # append in blank_common_el       \n",
    "        blank_common_el.append(one_el)\n",
    "if len(blank_common_el) > 0:\n",
    "    print(f\"{blank_common_el} Common Elements in {list_one} and {list_two}\")\n",
    "else:\n",
    "    print(\"No Common Element Found\")"
   ]
  },
  {
   "cell_type": "code",
   "execution_count": 73,
   "id": "1ee37978-2eeb-4837-b115-379840ba88f4",
   "metadata": {},
   "outputs": [
    {
     "name": "stdout",
     "output_type": "stream",
     "text": [
      "* \n",
      "* * \n",
      "* * * \n",
      "* * * * \n",
      "* * * * * \n"
     ]
    }
   ],
   "source": [
    "# 19. Develop a program that prints the pattern of right-angled triangles using a `for` loop. Use ‘*’ to draw the pattern\n",
    "# iterate for loops 1 to 5\n",
    "for i in range(1,5+1):\n",
    "    for n in range(i):\n",
    "        print('*', end=' ')\n",
    "    # for print() to move next line\n",
    "    print()"
   ]
  },
  {
   "cell_type": "code",
   "execution_count": 79,
   "id": "52d1716f-2b05-4572-b0ac-fb290ca5326b",
   "metadata": {},
   "outputs": [
    {
     "name": "stdin",
     "output_type": "stream",
     "text": [
      "Enter First Integer Number:  32\n",
      "Enter Second Integer Number:  12\n"
     ]
    },
    {
     "name": "stdout",
     "output_type": "stream",
     "text": [
      "4 is Greatest Divisor Of: 32 and 12\n"
     ]
    }
   ],
   "source": [
    "# 20. Write a program to find the greatest common divisor (GCD) of two numbers using a `for` loop.\n",
    "number_one = int(input(\"Enter First Integer Number: \"))\n",
    "number_two = int(input(\"Enter Second Integer Number: \"))\n",
    "# assing 0 gdc\n",
    "gdc = 1\n",
    "if number_one > number_two:\n",
    "    smaller_one = number_two\n",
    "else:\n",
    "    smaller_one = number_one\n",
    "# iterate through smaller_one\n",
    "for i in range(1,smaller_one+1):\n",
    "    # if reminder is zero in both condition\n",
    "    if (number_one % i == 0) and (number_two % i == 0):\n",
    "        gdc = i\n",
    "print(f\"{gdc} is Greatest Divisor Of: {number_one} and {number_two}\")"
   ]
  },
  {
   "cell_type": "code",
   "execution_count": null,
   "id": "0290d9c4-f941-4da2-b260-f2bcc79c7ff8",
   "metadata": {},
   "outputs": [],
   "source": [
    "# Advanced Level:"
   ]
  },
  {
   "cell_type": "code",
   "execution_count": 82,
   "id": "1fe1ff79-5afc-4f26-830f-a09386c7a551",
   "metadata": {},
   "outputs": [
    {
     "name": "stdout",
     "output_type": "stream",
     "text": [
      "Sum Of Digits:  [6, 3, 9, 6, 7, 3, 7, 13, 13, 6]\n"
     ]
    }
   ],
   "source": [
    "# 21. Create a program that calculates the sum of the digits of numbers in a list using a list comprehension.\n",
    "my_list = [123,3,45,42,34,12,34,445,535,51]\n",
    "# sum of digits of the number in list comprehension\n",
    "sum_of_digit_num = [sum(int(digit) for digit in str(number)) for number in my_list]\n",
    "# print result\n",
    "print(\"Sum Of Digits: \", sum_of_digit_num)"
   ]
  },
  {
   "cell_type": "code",
   "execution_count": 19,
   "id": "91a18c64-011b-471e-8eba-8adadfaae232",
   "metadata": {},
   "outputs": [
    {
     "name": "stdin",
     "output_type": "stream",
     "text": [
      "Enter Integer Number > 1:  99\n"
     ]
    },
    {
     "name": "stdout",
     "output_type": "stream",
     "text": [
      "'[3, 11]'Prime Factor Of '99'\n"
     ]
    }
   ],
   "source": [
    "# 22. Write a program to find the prime factors of a given number using a `for` loop and list comprehension.\n",
    "g_number = int(input(\"Enter Integer Number > 1: \"))\n",
    "# iterate through g_number using list comprehension\n",
    "prime_factor = [p for p in range(2,g_number+1) if g_number % p == 0 and all(p % i != 0 for i in range(2,p))]\n",
    "# print result\n",
    "print(f\"'{prime_factor}'Prime Factor Of '{g_number}'\")"
   ]
  },
  {
   "cell_type": "code",
   "execution_count": 25,
   "id": "6fa9c0fe-b602-4d31-b427-3c4b5bba3898",
   "metadata": {},
   "outputs": [
    {
     "name": "stdout",
     "output_type": "stream",
     "text": [
      "[1, 2, 3, 4, 5, 6, 7, 8, 9] Unique Element From my_list\n"
     ]
    }
   ],
   "source": [
    "# 23. Develop a program that extracts unique elements from a list and stores them in a new list using a list comprehension.\n",
    "my_list = [1, 2, 3, 2, 4, 5, 6, 5, 7, 8, 9, 1]\n",
    "# unique list \n",
    "unique_element = []\n",
    "# extract unique elements using list comprehension\n",
    "[unique_element.append(element) for element in my_list if element not in unique_element]\n",
    "# print result \n",
    "print(unique_element,\"Unique Element From my_list\")"
   ]
  },
  {
   "cell_type": "code",
   "execution_count": 27,
   "id": "d135002e-98f5-48b7-aace-c18830f2be7a",
   "metadata": {},
   "outputs": [
    {
     "name": "stdout",
     "output_type": "stream",
     "text": [
      "Palindromic Number Limit: '200' '[0, 1, 2, 3, 4, 5, 6, 7, 8, 9, 11, 22, 33, 44, 55, 66, 77, 88, 99, 101, 111, 121, 131, 141, 151, 161, 171, 181, 191]'\n"
     ]
    }
   ],
   "source": [
    "# 24. Create a program that generates a list of all palindromic numbers up to a specified limit using a list comprehension.\n",
    "number_limit = 200\n",
    "# generate palindromic number using list comprehension and loop\n",
    "palindromic_num = [p_num for p_num in range(number_limit+1) if str(p_num) == str(p_num)[::-1]]\n",
    "# print result \n",
    "print(f\"Palindromic Number Limit: '{number_limit}' '{palindromic_num}'\")"
   ]
  },
  {
   "cell_type": "code",
   "execution_count": 25,
   "id": "dbaee874-3d29-4f5d-9aee-352e17c2cf69",
   "metadata": {},
   "outputs": [
    {
     "name": "stdout",
     "output_type": "stream",
     "text": [
      "Flatten Nested List:  [1, 2, 3, 4, 5, 6, 7, 8, 9, 10, 11, 12]\n"
     ]
    }
   ],
   "source": [
    "# 25. Write a program to flatten a nested list using list comprehension. \n",
    "un_list = [1,2,[3,4],5,6,7,[8,9],10,11,12]\n",
    "# flatten the list\n",
    "flatten_list = [element for sublist in un_list for element in (sublist if isinstance(sublist,list) else [sublist])]\n",
    "# print result \n",
    "print(\"Flatten Nested List: \",flatten_list)"
   ]
  },
  {
   "cell_type": "code",
   "execution_count": 44,
   "id": "463a7cfa-36cf-4edb-923b-b0ce75883ccc",
   "metadata": {},
   "outputs": [
    {
     "name": "stdout",
     "output_type": "stream",
     "text": [
      "Numbers List:  [11, 24, 33, 25, 12, 24, 55, 100, 24, 55, 324, 5]\n",
      "Sum Of Even Number:  [508]\n",
      "Sum Of Odd Number:  [184]\n"
     ]
    }
   ],
   "source": [
    "# 26. Develop a program that computes the sum of even and odd numbers in a list separately using list comprehension.\n",
    "numbers_list = [11,24,33,25,12,24,55,100,24,55,324,5]\n",
    "# calculate sum of even number \n",
    "even_sum = [sum(e for e in numbers_list if e % 2 == 0)]\n",
    "odd_list = [sum(o for o in numbers_list if o % 2 != 0)]\n",
    "# print result\n",
    "print(\"Numbers List: \",numbers_list)\n",
    "print(\"Sum Of Even Number: \",even_sum)\n",
    "print(\"Sum Of Odd Number: \", odd_list)"
   ]
  },
  {
   "cell_type": "code",
   "execution_count": 50,
   "id": "5ff89c73-eb65-4240-9274-b717a17a0263",
   "metadata": {},
   "outputs": [
    {
     "name": "stdout",
     "output_type": "stream",
     "text": [
      "Square Number:  [1, 9, 25, 49, 81]\n"
     ]
    }
   ],
   "source": [
    "# 27. Create a program that generates a list of squares of odd numbers between 1 and 10 using list comprehension.\n",
    "# odd number square using for loop & list comprehension\n",
    "odd_sq = [sq**2 for sq in range(1,10) if sq % 2 != 0]\n",
    "# print result \n",
    "print(\"Square Number: \",odd_sq)"
   ]
  },
  {
   "cell_type": "code",
   "execution_count": 26,
   "id": "36e61bd1-0fc7-4da7-8709-c5c07dd9ad6f",
   "metadata": {},
   "outputs": [
    {
     "name": "stdout",
     "output_type": "stream",
     "text": [
      "After Combined:  [{'BM Yadav': 'New Delhi', 'Aditya Kumar': 'Deoria', 'Ajay': 'Gorakhpur', 'Sanskar': 'Lucknow'}]\n"
     ]
    }
   ],
   "source": [
    "# 28. Write a program that combines two lists into a dictionary using list comprehension.\n",
    "user_name_list = [\"BM Yadav\", \"Aditya Kumar\", \"Ajay\", \"Sanskar\"]\n",
    "user_city = [\"New Delhi\", \"Deoria\", \"Gorakhpur\", \"Lucknow\"]\n",
    "# combine user_name_list and user_city\n",
    "dict_combine = [{key: value for key, value in zip(user_name_list, user_city)}]\n",
    "# print result\n",
    "print(\"After Combined: \",dict_combine)"
   ]
  },
  {
   "cell_type": "code",
   "execution_count": 53,
   "id": "f5ab2012-fff4-40e2-b155-83dcae8a8760",
   "metadata": {},
   "outputs": [
    {
     "name": "stdout",
     "output_type": "stream",
     "text": [
      "['e', 'o', 'o', 'A', 'e', 'o', 'u'] Vowel in Hello How Are You?\n"
     ]
    }
   ],
   "source": [
    "# 29. Develop a program that extracts the vowels from a string and stores them in a list using list comprehension.\n",
    "string = \"Hello How Are You?\"\n",
    "# initialize vowel list\n",
    "vowel = []\n",
    "# extract vowel using list comprehension\n",
    "[vowel.append(v) for v in string if v in \"aeiouAEIOU\"]\n",
    "# print the result\n",
    "print(vowel,\"Vowel in\",string)"
   ]
  },
  {
   "cell_type": "code",
   "execution_count": 24,
   "id": "49fa5544-c93a-4419-85af-7b99d265a740",
   "metadata": {},
   "outputs": [
    {
     "name": "stdout",
     "output_type": "stream",
     "text": [
      "['123', '45', '123', '789'] Numeric Character in ['123', '45', '123', '789']\n"
     ]
    }
   ],
   "source": [
    "# 30. Create a program that removes all non-numeric characters from a list of strings using list comprehension.\n",
    "alphanumeric = [\"abc123\", \"45xyz\", \"1a2b3c\", \"789\"]\n",
    "# remove all non-numeric characters from list \n",
    "numeric_char = [''.join(char for char in string if char.isdigit()) for string in alphanumeric]\n",
    "# print result\n",
    "print(numeric_char,\"Numeric Character in\",numeric_char)"
   ]
  },
  {
   "cell_type": "code",
   "execution_count": null,
   "id": "8b6894e2-a2a6-449b-bffa-3bb40a7f49ce",
   "metadata": {},
   "outputs": [],
   "source": [
    "# Challenge Level:"
   ]
  },
  {
   "cell_type": "code",
   "execution_count": 62,
   "id": "8adbdf41-3f5a-46c0-91f6-ac5c689eb54f",
   "metadata": {},
   "outputs": [
    {
     "name": "stdout",
     "output_type": "stream",
     "text": [
      "[2, 3, 5, 7, 11, 13, 17, 19, 23, 29] Prime Number to 30\n"
     ]
    }
   ],
   "source": [
    "# 31. Write a program to generate a list of prime numbers using the Sieve of Eratosthenes algorithm and list comprehension.\n",
    "limit_number = 30\n",
    "# using using the Sieve of Eratosthenes algorithm and list comprehension\n",
    "prime_numbers = [p for p in range(2,limit_number+1) if all(p % i !=0 for i in range(2,p))]\n",
    "# print result \n",
    "print(prime_numbers,\"Prime Number to\",limit_number)"
   ]
  },
  {
   "cell_type": "code",
   "execution_count": 67,
   "id": "e3e41776-cf81-4dc0-8c45-2c1a29ef2d0d",
   "metadata": {},
   "outputs": [
    {
     "name": "stdout",
     "output_type": "stream",
     "text": [
      "Pythagorean Triplets up to 20 :  [(3, 4, 5), (5, 12, 13), (6, 8, 10), (8, 15, 17), (9, 12, 15), (12, 16, 20)]\n"
     ]
    }
   ],
   "source": [
    "# 32. Create a program that generates a list of all Pythagorean triplets up to a specified limit using list comprehension.\n",
    "upto = 20\n",
    "# generating a list of all Pythagorean triplets using list comprehension\n",
    "pythagorean_triplets = [(a,b,c) for a in range(1, upto+1) for b in range(a, upto+1) for c in range(b, upto + 1) if a**2 + b**2 == c**2]\n",
    "# print result\n",
    "print(\"Pythagorean Triplets up to\",upto,\": \",pythagorean_triplets)"
   ]
  },
  {
   "cell_type": "code",
   "execution_count": 68,
   "id": "215f34dc-aed6-40a5-bf7a-c0def512a3df",
   "metadata": {},
   "outputs": [
    {
     "name": "stdout",
     "output_type": "stream",
     "text": [
      "All Possible Combinations: [(10, 'A'), (10, 'B'), (10, 'C'), (10, 'D'), (20, 'A'), (20, 'B'), (20, 'C'), (20, 'D'), (30, 'A'), (30, 'B'), (30, 'C'), (30, 'D'), (40, 'A'), (40, 'B'), (40, 'C'), (40, 'D')]\n"
     ]
    }
   ],
   "source": [
    "# 33. Develop a program that generates a list of all possible combinations of two lists using list comprehension.\n",
    "list_a = [10,20,30,40]\n",
    "list_b = [\"A\",\"B\",\"C\",\"D\"]\n",
    "# possible combinations of two lists using list comprehension\n",
    "possible_comb = [(a,b) for a in list_a for b in list_b]\n",
    "# print result\n",
    "print(\"All Possible Combinations:\", possible_comb)"
   ]
  },
  {
   "cell_type": "code",
   "execution_count": 109,
   "id": "4ffa17d9-27dd-4a91-afd5-4858d2115429",
   "metadata": {},
   "outputs": [
    {
     "name": "stdout",
     "output_type": "stream",
     "text": [
      "List: [2, 4, 5, 5, 8, 9]\n",
      "mean: [5.5]\n",
      "Median: 5.0\n",
      "mode:  [5]\n"
     ]
    }
   ],
   "source": [
    "# 34. Write a program that calculates the mean, median, and mode of a list of numbers using list comprehension.\n",
    "new_list = [2, 4, 5, 5, 8, 9]\n",
    "# print new_list \n",
    "print(\"List:\",new_list)\n",
    "# find out mean\n",
    "meanfind = [sum(new_list)/len(new_list)]\n",
    "# print mean\n",
    "print(\"mean:\",meanfind)\n",
    "# median find \n",
    "new_list.sort()\n",
    "medianfind = ((new_list[len(new_list) // 2] + new_list[len(new_list) // 2 - 1]) / 2 if len(new_list) % 2 == 0 else new_list[len(new_list) // 2])\n",
    "# print median\n",
    "print(\"Median:\",medianfind)\n",
    "# finding mode\n",
    "mode_find = [num for num in set(new_list) if new_list.count(num) == max(new_list.count(x) for x in set(new_list))]\n",
    "# print result\n",
    "print(\"mode: \",mode_find)"
   ]
  },
  {
   "cell_type": "code",
   "execution_count": 27,
   "id": "b50e6e7b-f192-4b6e-ac9f-13ae3b097e42",
   "metadata": {},
   "outputs": [
    {
     "name": "stdin",
     "output_type": "stream",
     "text": [
      "How Many Number Of Rows You Want:  5\n"
     ]
    },
    {
     "name": "stdout",
     "output_type": "stream",
     "text": [
      "       1       \n",
      "      1 1      \n",
      "     1 2 1     \n",
      "    1 3 3 1    \n",
      "   1 4 6 4 1   \n"
     ]
    }
   ],
   "source": [
    "# 35. Create a program that generates Pascal's triangle up to a specified number of rows using list comprehension.\n",
    "# assign def\n",
    "def generate_pascals_triangle(num_rows):\n",
    "    triangle = [[1] * (row + 1) for row in range(num_rows)]\n",
    "    \n",
    "    for i in range(2, num_rows):\n",
    "        triangle[i][1:-1] = [triangle[i - 1][j - 1] + triangle[i - 1][j] for j in range(1, i)]\n",
    "    \n",
    "    return triangle\n",
    "\n",
    "def print_pascals_triangle(triangle):\n",
    "    for row in triangle:\n",
    "        print(' '.join(map(str, row)).center(len(triangle[-1]) * 3))\n",
    "\n",
    "# number of rows\n",
    "num_rows = int(input(\"How Many Number Of Rows You Want: \"))\n",
    "pascals_triangle = generate_pascals_triangle(num_rows)\n",
    "print_pascals_triangle(pascals_triangle)"
   ]
  },
  {
   "cell_type": "code",
   "execution_count": 28,
   "id": "bf3a2c1d-6aa3-4650-8ad8-14a5f5ab896c",
   "metadata": {},
   "outputs": [
    {
     "name": "stdout",
     "output_type": "stream",
     "text": [
      "Sum of digits of 1!: 1\n",
      "Sum of digits of 2!: 2\n",
      "Sum of digits of 3!: 6\n",
      "Sum of digits of 4!: 6\n",
      "Sum of digits of 5!: 3\n"
     ]
    }
   ],
   "source": [
    "# 36. Develop a program that calculates the sum of the digits of a factorial of numbers from 1 to 5 using list comprehension.\n",
    "# Define a function to calculate the factorial of a number\n",
    "def factorial(n):\n",
    "    return 1 if n == 0 or n == 1 else n * factorial(n - 1)\n",
    "\n",
    "# Define a function to calculate the sum of the digits of a number\n",
    "def digit_sum(num):\n",
    "    return sum(int(digit) for digit in str(num))\n",
    "\n",
    "# Calculate the sum of digits of factorials for numbers from 1 to 5 using list comprehension\n",
    "factorial_sums = [digit_sum(factorial(i)) for i in range(1, 6)]\n",
    "\n",
    "# Print the results\n",
    "for i, factorial_sum in enumerate(factorial_sums, start=1):\n",
    "    print(f\"Sum of digits of {i}!: {factorial_sum}\")\n"
   ]
  },
  {
   "cell_type": "code",
   "execution_count": 29,
   "id": "5985a0c4-b53b-40d5-90fa-8b7164cbb05d",
   "metadata": {},
   "outputs": [
    {
     "name": "stdout",
     "output_type": "stream",
     "text": [
      "Longest Word: Allahabad?\n"
     ]
    }
   ],
   "source": [
    "# 37. Write a program that finds the longest word in a sentence using list comprehension.\n",
    "string_word = \"Where is Located Allahabad?\"\n",
    "# iterte string_word \n",
    "longest_word = max((word.strip(\",.\") for word in string_word.split()), key=len)\n",
    "# print result \n",
    "print(\"Longest Word:\", longest_word)"
   ]
  },
  {
   "cell_type": "code",
   "execution_count": 12,
   "id": "e2bd1827-65a0-41c0-95ba-7a9171c0e6e4",
   "metadata": {},
   "outputs": [
    {
     "name": "stdout",
     "output_type": "stream",
     "text": [
      "String With More >3 Vowels: ['Audio', 'SEQUOIA', 'OUIJA']\n"
     ]
    }
   ],
   "source": [
    "# 38. Create a program that filters a list of strings to include only those with more than three vowels using list comprehension.\n",
    "word_list = [\"Python\", \"Audio\", \"SEQUOIA\", \"orange\", \"Multiply\", \"Understand\", \"Elephant\", \"Sentence\", \"Homework\", \"OUIJA\"]\n",
    "# count function\n",
    "def count_vowel(word):\n",
    "    vowels = \"aeiouAEIOU\"\n",
    "    return sum(1 for char in word if char in vowels)\n",
    "# iterate through word_list \n",
    "filt_word = [word for word in word_list if count_vowel(word) > 3]\n",
    "# print result \n",
    "print(\"String With More >3 Vowels:\",filt_word)"
   ]
  },
  {
   "cell_type": "code",
   "execution_count": 16,
   "id": "78c1d739-0386-4f88-9c55-e3e7fc3f1e15",
   "metadata": {},
   "outputs": [
    {
     "name": "stdout",
     "output_type": "stream",
     "text": [
      "Sum of digits for numbers from 1 to 1000: 13501\n"
     ]
    }
   ],
   "source": [
    "# 39. Develop a program that calculates the sum of the digits of numbers from 1 to 1000 using list comprehension.\n",
    "# iterate through loop 1, 100\n",
    "def digit_sum(num):\n",
    "    return sum(int(digit) for digit in str(num))\n",
    "\n",
    "# Use list comprehension to calculate the sum of digits for numbers from 1 to 1000\n",
    "sums = [digit_sum(num) for num in range(1, 1001)]\n",
    "\n",
    "# Print the result\n",
    "print(\"Sum of digits for numbers from 1 to 1000:\", sum(sums))"
   ]
  },
  {
   "cell_type": "code",
   "execution_count": 19,
   "id": "5f84afe9-a9ca-479f-be64-a1b3f68eda7e",
   "metadata": {},
   "outputs": [
    {
     "name": "stdout",
     "output_type": "stream",
     "text": [
      "Prime Palindrome From 1 to 1000:  [2, 3, 5, 7, 11, 101, 131, 151, 181, 191, 313, 353, 373, 383, 727, 757, 787, 797, 919, 929]\n"
     ]
    }
   ],
   "source": [
    "# 40. Write a program that generates a list of prime palindromic numbers using list comprehension.\n",
    "# how many limit you want ?\n",
    "limit = 1000\n",
    "# def check to =!0 if devide each number \n",
    "def is_prime(num):\n",
    "    if num < 2:\n",
    "        return False\n",
    "    for i in range(2,num):\n",
    "        if num % i == 0:\n",
    "            return False\n",
    "    return True\n",
    "# now function for palindrome allow only \n",
    "def is_palindrome(num):\n",
    "    return str(num) == str(num)[::-1]\n",
    "# now iterate through range \n",
    "prime_palindrome_num = [num for num in range(1,1001) if is_prime(num) and is_palindrome(num)]\n",
    "# print result\n",
    "print(\"Prime Palindrome From 1 to 1000: \",prime_palindrome_num)"
   ]
  }
 ],
 "metadata": {
  "kernelspec": {
   "display_name": "Python 3 (ipykernel)",
   "language": "python",
   "name": "python3"
  },
  "language_info": {
   "codemirror_mode": {
    "name": "ipython",
    "version": 3
   },
   "file_extension": ".py",
   "mimetype": "text/x-python",
   "name": "python",
   "nbconvert_exporter": "python",
   "pygments_lexer": "ipython3",
   "version": "3.12.0"
  }
 },
 "nbformat": 4,
 "nbformat_minor": 5
}
